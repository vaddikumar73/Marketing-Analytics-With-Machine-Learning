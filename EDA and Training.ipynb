{
 "cells": [
  {
   "cell_type": "code",
   "execution_count": 1,
   "id": "8f821e7e",
   "metadata": {},
   "outputs": [
    {
     "data": {
      "text/html": [
       "<div>\n",
       "<style scoped>\n",
       "    .dataframe tbody tr th:only-of-type {\n",
       "        vertical-align: middle;\n",
       "    }\n",
       "\n",
       "    .dataframe tbody tr th {\n",
       "        vertical-align: top;\n",
       "    }\n",
       "\n",
       "    .dataframe thead th {\n",
       "        text-align: right;\n",
       "    }\n",
       "</style>\n",
       "<table border=\"1\" class=\"dataframe\">\n",
       "  <thead>\n",
       "    <tr style=\"text-align: right;\">\n",
       "      <th></th>\n",
       "      <th>ID</th>\n",
       "      <th>Year_Birth</th>\n",
       "      <th>Education</th>\n",
       "      <th>Marital_Status</th>\n",
       "      <th>Income</th>\n",
       "      <th>Kidhome</th>\n",
       "      <th>Teenhome</th>\n",
       "      <th>Dt_Customer</th>\n",
       "      <th>Recency</th>\n",
       "      <th>MntWines</th>\n",
       "      <th>...</th>\n",
       "      <th>NumStorePurchases</th>\n",
       "      <th>NumWebVisitsMonth</th>\n",
       "      <th>AcceptedCmp3</th>\n",
       "      <th>AcceptedCmp4</th>\n",
       "      <th>AcceptedCmp5</th>\n",
       "      <th>AcceptedCmp1</th>\n",
       "      <th>AcceptedCmp2</th>\n",
       "      <th>Response</th>\n",
       "      <th>Complain</th>\n",
       "      <th>Country</th>\n",
       "    </tr>\n",
       "  </thead>\n",
       "  <tbody>\n",
       "    <tr>\n",
       "      <th>0</th>\n",
       "      <td>1826</td>\n",
       "      <td>1970</td>\n",
       "      <td>Graduation</td>\n",
       "      <td>Divorced</td>\n",
       "      <td>$84,835.00</td>\n",
       "      <td>0</td>\n",
       "      <td>0</td>\n",
       "      <td>6/16/14</td>\n",
       "      <td>0</td>\n",
       "      <td>189</td>\n",
       "      <td>...</td>\n",
       "      <td>6</td>\n",
       "      <td>1</td>\n",
       "      <td>0</td>\n",
       "      <td>0</td>\n",
       "      <td>0</td>\n",
       "      <td>0</td>\n",
       "      <td>0</td>\n",
       "      <td>1</td>\n",
       "      <td>0</td>\n",
       "      <td>SP</td>\n",
       "    </tr>\n",
       "    <tr>\n",
       "      <th>1</th>\n",
       "      <td>1</td>\n",
       "      <td>1961</td>\n",
       "      <td>Graduation</td>\n",
       "      <td>Single</td>\n",
       "      <td>$57,091.00</td>\n",
       "      <td>0</td>\n",
       "      <td>0</td>\n",
       "      <td>6/15/14</td>\n",
       "      <td>0</td>\n",
       "      <td>464</td>\n",
       "      <td>...</td>\n",
       "      <td>7</td>\n",
       "      <td>5</td>\n",
       "      <td>0</td>\n",
       "      <td>0</td>\n",
       "      <td>0</td>\n",
       "      <td>0</td>\n",
       "      <td>1</td>\n",
       "      <td>1</td>\n",
       "      <td>0</td>\n",
       "      <td>CA</td>\n",
       "    </tr>\n",
       "    <tr>\n",
       "      <th>2</th>\n",
       "      <td>10476</td>\n",
       "      <td>1958</td>\n",
       "      <td>Graduation</td>\n",
       "      <td>Married</td>\n",
       "      <td>$67,267.00</td>\n",
       "      <td>0</td>\n",
       "      <td>1</td>\n",
       "      <td>5/13/14</td>\n",
       "      <td>0</td>\n",
       "      <td>134</td>\n",
       "      <td>...</td>\n",
       "      <td>5</td>\n",
       "      <td>2</td>\n",
       "      <td>0</td>\n",
       "      <td>0</td>\n",
       "      <td>0</td>\n",
       "      <td>0</td>\n",
       "      <td>0</td>\n",
       "      <td>0</td>\n",
       "      <td>0</td>\n",
       "      <td>US</td>\n",
       "    </tr>\n",
       "    <tr>\n",
       "      <th>3</th>\n",
       "      <td>1386</td>\n",
       "      <td>1967</td>\n",
       "      <td>Graduation</td>\n",
       "      <td>Together</td>\n",
       "      <td>$32,474.00</td>\n",
       "      <td>1</td>\n",
       "      <td>1</td>\n",
       "      <td>5/11/14</td>\n",
       "      <td>0</td>\n",
       "      <td>10</td>\n",
       "      <td>...</td>\n",
       "      <td>2</td>\n",
       "      <td>7</td>\n",
       "      <td>0</td>\n",
       "      <td>0</td>\n",
       "      <td>0</td>\n",
       "      <td>0</td>\n",
       "      <td>0</td>\n",
       "      <td>0</td>\n",
       "      <td>0</td>\n",
       "      <td>AUS</td>\n",
       "    </tr>\n",
       "    <tr>\n",
       "      <th>4</th>\n",
       "      <td>5371</td>\n",
       "      <td>1989</td>\n",
       "      <td>Graduation</td>\n",
       "      <td>Single</td>\n",
       "      <td>$21,474.00</td>\n",
       "      <td>1</td>\n",
       "      <td>0</td>\n",
       "      <td>4/8/14</td>\n",
       "      <td>0</td>\n",
       "      <td>6</td>\n",
       "      <td>...</td>\n",
       "      <td>2</td>\n",
       "      <td>7</td>\n",
       "      <td>1</td>\n",
       "      <td>0</td>\n",
       "      <td>0</td>\n",
       "      <td>0</td>\n",
       "      <td>0</td>\n",
       "      <td>1</td>\n",
       "      <td>0</td>\n",
       "      <td>SP</td>\n",
       "    </tr>\n",
       "    <tr>\n",
       "      <th>...</th>\n",
       "      <td>...</td>\n",
       "      <td>...</td>\n",
       "      <td>...</td>\n",
       "      <td>...</td>\n",
       "      <td>...</td>\n",
       "      <td>...</td>\n",
       "      <td>...</td>\n",
       "      <td>...</td>\n",
       "      <td>...</td>\n",
       "      <td>...</td>\n",
       "      <td>...</td>\n",
       "      <td>...</td>\n",
       "      <td>...</td>\n",
       "      <td>...</td>\n",
       "      <td>...</td>\n",
       "      <td>...</td>\n",
       "      <td>...</td>\n",
       "      <td>...</td>\n",
       "      <td>...</td>\n",
       "      <td>...</td>\n",
       "      <td>...</td>\n",
       "    </tr>\n",
       "    <tr>\n",
       "      <th>2235</th>\n",
       "      <td>10142</td>\n",
       "      <td>1976</td>\n",
       "      <td>PhD</td>\n",
       "      <td>Divorced</td>\n",
       "      <td>$66,476.00</td>\n",
       "      <td>0</td>\n",
       "      <td>1</td>\n",
       "      <td>3/7/13</td>\n",
       "      <td>99</td>\n",
       "      <td>372</td>\n",
       "      <td>...</td>\n",
       "      <td>11</td>\n",
       "      <td>4</td>\n",
       "      <td>0</td>\n",
       "      <td>0</td>\n",
       "      <td>0</td>\n",
       "      <td>0</td>\n",
       "      <td>0</td>\n",
       "      <td>0</td>\n",
       "      <td>0</td>\n",
       "      <td>US</td>\n",
       "    </tr>\n",
       "    <tr>\n",
       "      <th>2236</th>\n",
       "      <td>5263</td>\n",
       "      <td>1977</td>\n",
       "      <td>2n Cycle</td>\n",
       "      <td>Married</td>\n",
       "      <td>$31,056.00</td>\n",
       "      <td>1</td>\n",
       "      <td>0</td>\n",
       "      <td>1/22/13</td>\n",
       "      <td>99</td>\n",
       "      <td>5</td>\n",
       "      <td>...</td>\n",
       "      <td>3</td>\n",
       "      <td>8</td>\n",
       "      <td>0</td>\n",
       "      <td>0</td>\n",
       "      <td>0</td>\n",
       "      <td>0</td>\n",
       "      <td>0</td>\n",
       "      <td>0</td>\n",
       "      <td>0</td>\n",
       "      <td>SP</td>\n",
       "    </tr>\n",
       "    <tr>\n",
       "      <th>2237</th>\n",
       "      <td>22</td>\n",
       "      <td>1976</td>\n",
       "      <td>Graduation</td>\n",
       "      <td>Divorced</td>\n",
       "      <td>$46,310.00</td>\n",
       "      <td>1</td>\n",
       "      <td>0</td>\n",
       "      <td>12/3/12</td>\n",
       "      <td>99</td>\n",
       "      <td>185</td>\n",
       "      <td>...</td>\n",
       "      <td>5</td>\n",
       "      <td>8</td>\n",
       "      <td>0</td>\n",
       "      <td>0</td>\n",
       "      <td>0</td>\n",
       "      <td>0</td>\n",
       "      <td>0</td>\n",
       "      <td>0</td>\n",
       "      <td>0</td>\n",
       "      <td>SP</td>\n",
       "    </tr>\n",
       "    <tr>\n",
       "      <th>2238</th>\n",
       "      <td>528</td>\n",
       "      <td>1978</td>\n",
       "      <td>Graduation</td>\n",
       "      <td>Married</td>\n",
       "      <td>$65,819.00</td>\n",
       "      <td>0</td>\n",
       "      <td>0</td>\n",
       "      <td>11/29/12</td>\n",
       "      <td>99</td>\n",
       "      <td>267</td>\n",
       "      <td>...</td>\n",
       "      <td>10</td>\n",
       "      <td>3</td>\n",
       "      <td>0</td>\n",
       "      <td>0</td>\n",
       "      <td>0</td>\n",
       "      <td>0</td>\n",
       "      <td>0</td>\n",
       "      <td>0</td>\n",
       "      <td>0</td>\n",
       "      <td>IND</td>\n",
       "    </tr>\n",
       "    <tr>\n",
       "      <th>2239</th>\n",
       "      <td>4070</td>\n",
       "      <td>1969</td>\n",
       "      <td>PhD</td>\n",
       "      <td>Married</td>\n",
       "      <td>$94,871.00</td>\n",
       "      <td>0</td>\n",
       "      <td>2</td>\n",
       "      <td>9/1/12</td>\n",
       "      <td>99</td>\n",
       "      <td>169</td>\n",
       "      <td>...</td>\n",
       "      <td>4</td>\n",
       "      <td>7</td>\n",
       "      <td>0</td>\n",
       "      <td>1</td>\n",
       "      <td>1</td>\n",
       "      <td>0</td>\n",
       "      <td>0</td>\n",
       "      <td>1</td>\n",
       "      <td>0</td>\n",
       "      <td>CA</td>\n",
       "    </tr>\n",
       "  </tbody>\n",
       "</table>\n",
       "<p>2240 rows × 28 columns</p>\n",
       "</div>"
      ],
      "text/plain": [
       "         ID  Year_Birth   Education Marital_Status      Income   Kidhome  \\\n",
       "0      1826        1970  Graduation       Divorced  $84,835.00         0   \n",
       "1         1        1961  Graduation         Single  $57,091.00         0   \n",
       "2     10476        1958  Graduation        Married  $67,267.00         0   \n",
       "3      1386        1967  Graduation       Together  $32,474.00         1   \n",
       "4      5371        1989  Graduation         Single  $21,474.00         1   \n",
       "...     ...         ...         ...            ...          ...      ...   \n",
       "2235  10142        1976         PhD       Divorced  $66,476.00         0   \n",
       "2236   5263        1977    2n Cycle        Married  $31,056.00         1   \n",
       "2237     22        1976  Graduation       Divorced  $46,310.00         1   \n",
       "2238    528        1978  Graduation        Married  $65,819.00         0   \n",
       "2239   4070        1969         PhD        Married  $94,871.00         0   \n",
       "\n",
       "      Teenhome Dt_Customer  Recency  MntWines  ...  NumStorePurchases  \\\n",
       "0            0     6/16/14        0       189  ...                  6   \n",
       "1            0     6/15/14        0       464  ...                  7   \n",
       "2            1     5/13/14        0       134  ...                  5   \n",
       "3            1     5/11/14        0        10  ...                  2   \n",
       "4            0      4/8/14        0         6  ...                  2   \n",
       "...        ...         ...      ...       ...  ...                ...   \n",
       "2235         1      3/7/13       99       372  ...                 11   \n",
       "2236         0     1/22/13       99         5  ...                  3   \n",
       "2237         0     12/3/12       99       185  ...                  5   \n",
       "2238         0    11/29/12       99       267  ...                 10   \n",
       "2239         2      9/1/12       99       169  ...                  4   \n",
       "\n",
       "      NumWebVisitsMonth  AcceptedCmp3  AcceptedCmp4  AcceptedCmp5  \\\n",
       "0                     1             0             0             0   \n",
       "1                     5             0             0             0   \n",
       "2                     2             0             0             0   \n",
       "3                     7             0             0             0   \n",
       "4                     7             1             0             0   \n",
       "...                 ...           ...           ...           ...   \n",
       "2235                  4             0             0             0   \n",
       "2236                  8             0             0             0   \n",
       "2237                  8             0             0             0   \n",
       "2238                  3             0             0             0   \n",
       "2239                  7             0             1             1   \n",
       "\n",
       "      AcceptedCmp1  AcceptedCmp2  Response  Complain  Country  \n",
       "0                0             0         1         0       SP  \n",
       "1                0             1         1         0       CA  \n",
       "2                0             0         0         0       US  \n",
       "3                0             0         0         0      AUS  \n",
       "4                0             0         1         0       SP  \n",
       "...            ...           ...       ...       ...      ...  \n",
       "2235             0             0         0         0       US  \n",
       "2236             0             0         0         0       SP  \n",
       "2237             0             0         0         0       SP  \n",
       "2238             0             0         0         0      IND  \n",
       "2239             0             0         1         0       CA  \n",
       "\n",
       "[2240 rows x 28 columns]"
      ]
     },
     "execution_count": 1,
     "metadata": {},
     "output_type": "execute_result"
    }
   ],
   "source": [
    "import pandas as pd\n",
    "df=pd.read_csv('marketing_data.csv')\n",
    "df"
   ]
  },
  {
   "cell_type": "code",
   "execution_count": 2,
   "id": "5c2988fc",
   "metadata": {},
   "outputs": [
    {
     "name": "stdout",
     "output_type": "stream",
     "text": [
      "<class 'pandas.core.frame.DataFrame'>\n",
      "RangeIndex: 2240 entries, 0 to 2239\n",
      "Data columns (total 28 columns):\n",
      " #   Column               Non-Null Count  Dtype \n",
      "---  ------               --------------  ----- \n",
      " 0   ID                   2240 non-null   int64 \n",
      " 1   Year_Birth           2240 non-null   int64 \n",
      " 2   Education            2240 non-null   object\n",
      " 3   Marital_Status       2240 non-null   object\n",
      " 4    Income              2216 non-null   object\n",
      " 5   Kidhome              2240 non-null   int64 \n",
      " 6   Teenhome             2240 non-null   int64 \n",
      " 7   Dt_Customer          2240 non-null   object\n",
      " 8   Recency              2240 non-null   int64 \n",
      " 9   MntWines             2240 non-null   int64 \n",
      " 10  MntFruits            2240 non-null   int64 \n",
      " 11  MntMeatProducts      2240 non-null   int64 \n",
      " 12  MntFishProducts      2240 non-null   int64 \n",
      " 13  MntSweetProducts     2240 non-null   int64 \n",
      " 14  MntGoldProds         2240 non-null   int64 \n",
      " 15  NumDealsPurchases    2240 non-null   int64 \n",
      " 16  NumWebPurchases      2240 non-null   int64 \n",
      " 17  NumCatalogPurchases  2240 non-null   int64 \n",
      " 18  NumStorePurchases    2240 non-null   int64 \n",
      " 19  NumWebVisitsMonth    2240 non-null   int64 \n",
      " 20  AcceptedCmp3         2240 non-null   int64 \n",
      " 21  AcceptedCmp4         2240 non-null   int64 \n",
      " 22  AcceptedCmp5         2240 non-null   int64 \n",
      " 23  AcceptedCmp1         2240 non-null   int64 \n",
      " 24  AcceptedCmp2         2240 non-null   int64 \n",
      " 25  Response             2240 non-null   int64 \n",
      " 26  Complain             2240 non-null   int64 \n",
      " 27  Country              2240 non-null   object\n",
      "dtypes: int64(23), object(5)\n",
      "memory usage: 490.1+ KB\n"
     ]
    }
   ],
   "source": [
    "df.info()"
   ]
  },
  {
   "cell_type": "code",
   "execution_count": 3,
   "id": "ef567550",
   "metadata": {},
   "outputs": [
    {
     "data": {
      "text/html": [
       "<div>\n",
       "<style scoped>\n",
       "    .dataframe tbody tr th:only-of-type {\n",
       "        vertical-align: middle;\n",
       "    }\n",
       "\n",
       "    .dataframe tbody tr th {\n",
       "        vertical-align: top;\n",
       "    }\n",
       "\n",
       "    .dataframe thead th {\n",
       "        text-align: right;\n",
       "    }\n",
       "</style>\n",
       "<table border=\"1\" class=\"dataframe\">\n",
       "  <thead>\n",
       "    <tr style=\"text-align: right;\">\n",
       "      <th></th>\n",
       "      <th>ID</th>\n",
       "      <th>Year_Birth</th>\n",
       "      <th>Kidhome</th>\n",
       "      <th>Teenhome</th>\n",
       "      <th>Recency</th>\n",
       "      <th>MntWines</th>\n",
       "      <th>MntFruits</th>\n",
       "      <th>MntMeatProducts</th>\n",
       "      <th>MntFishProducts</th>\n",
       "      <th>MntSweetProducts</th>\n",
       "      <th>...</th>\n",
       "      <th>NumCatalogPurchases</th>\n",
       "      <th>NumStorePurchases</th>\n",
       "      <th>NumWebVisitsMonth</th>\n",
       "      <th>AcceptedCmp3</th>\n",
       "      <th>AcceptedCmp4</th>\n",
       "      <th>AcceptedCmp5</th>\n",
       "      <th>AcceptedCmp1</th>\n",
       "      <th>AcceptedCmp2</th>\n",
       "      <th>Response</th>\n",
       "      <th>Complain</th>\n",
       "    </tr>\n",
       "  </thead>\n",
       "  <tbody>\n",
       "    <tr>\n",
       "      <th>count</th>\n",
       "      <td>2240.000000</td>\n",
       "      <td>2240.000000</td>\n",
       "      <td>2240.000000</td>\n",
       "      <td>2240.000000</td>\n",
       "      <td>2240.000000</td>\n",
       "      <td>2240.000000</td>\n",
       "      <td>2240.000000</td>\n",
       "      <td>2240.000000</td>\n",
       "      <td>2240.000000</td>\n",
       "      <td>2240.000000</td>\n",
       "      <td>...</td>\n",
       "      <td>2240.000000</td>\n",
       "      <td>2240.000000</td>\n",
       "      <td>2240.000000</td>\n",
       "      <td>2240.000000</td>\n",
       "      <td>2240.000000</td>\n",
       "      <td>2240.000000</td>\n",
       "      <td>2240.000000</td>\n",
       "      <td>2240.000000</td>\n",
       "      <td>2240.000000</td>\n",
       "      <td>2240.000000</td>\n",
       "    </tr>\n",
       "    <tr>\n",
       "      <th>mean</th>\n",
       "      <td>5592.159821</td>\n",
       "      <td>1968.805804</td>\n",
       "      <td>0.444196</td>\n",
       "      <td>0.506250</td>\n",
       "      <td>49.109375</td>\n",
       "      <td>303.935714</td>\n",
       "      <td>26.302232</td>\n",
       "      <td>166.950000</td>\n",
       "      <td>37.525446</td>\n",
       "      <td>27.062946</td>\n",
       "      <td>...</td>\n",
       "      <td>2.662054</td>\n",
       "      <td>5.790179</td>\n",
       "      <td>5.316518</td>\n",
       "      <td>0.072768</td>\n",
       "      <td>0.074554</td>\n",
       "      <td>0.072768</td>\n",
       "      <td>0.064286</td>\n",
       "      <td>0.013393</td>\n",
       "      <td>0.149107</td>\n",
       "      <td>0.009375</td>\n",
       "    </tr>\n",
       "    <tr>\n",
       "      <th>std</th>\n",
       "      <td>3246.662198</td>\n",
       "      <td>11.984069</td>\n",
       "      <td>0.538398</td>\n",
       "      <td>0.544538</td>\n",
       "      <td>28.962453</td>\n",
       "      <td>336.597393</td>\n",
       "      <td>39.773434</td>\n",
       "      <td>225.715373</td>\n",
       "      <td>54.628979</td>\n",
       "      <td>41.280498</td>\n",
       "      <td>...</td>\n",
       "      <td>2.923101</td>\n",
       "      <td>3.250958</td>\n",
       "      <td>2.426645</td>\n",
       "      <td>0.259813</td>\n",
       "      <td>0.262728</td>\n",
       "      <td>0.259813</td>\n",
       "      <td>0.245316</td>\n",
       "      <td>0.114976</td>\n",
       "      <td>0.356274</td>\n",
       "      <td>0.096391</td>\n",
       "    </tr>\n",
       "    <tr>\n",
       "      <th>min</th>\n",
       "      <td>0.000000</td>\n",
       "      <td>1893.000000</td>\n",
       "      <td>0.000000</td>\n",
       "      <td>0.000000</td>\n",
       "      <td>0.000000</td>\n",
       "      <td>0.000000</td>\n",
       "      <td>0.000000</td>\n",
       "      <td>0.000000</td>\n",
       "      <td>0.000000</td>\n",
       "      <td>0.000000</td>\n",
       "      <td>...</td>\n",
       "      <td>0.000000</td>\n",
       "      <td>0.000000</td>\n",
       "      <td>0.000000</td>\n",
       "      <td>0.000000</td>\n",
       "      <td>0.000000</td>\n",
       "      <td>0.000000</td>\n",
       "      <td>0.000000</td>\n",
       "      <td>0.000000</td>\n",
       "      <td>0.000000</td>\n",
       "      <td>0.000000</td>\n",
       "    </tr>\n",
       "    <tr>\n",
       "      <th>25%</th>\n",
       "      <td>2828.250000</td>\n",
       "      <td>1959.000000</td>\n",
       "      <td>0.000000</td>\n",
       "      <td>0.000000</td>\n",
       "      <td>24.000000</td>\n",
       "      <td>23.750000</td>\n",
       "      <td>1.000000</td>\n",
       "      <td>16.000000</td>\n",
       "      <td>3.000000</td>\n",
       "      <td>1.000000</td>\n",
       "      <td>...</td>\n",
       "      <td>0.000000</td>\n",
       "      <td>3.000000</td>\n",
       "      <td>3.000000</td>\n",
       "      <td>0.000000</td>\n",
       "      <td>0.000000</td>\n",
       "      <td>0.000000</td>\n",
       "      <td>0.000000</td>\n",
       "      <td>0.000000</td>\n",
       "      <td>0.000000</td>\n",
       "      <td>0.000000</td>\n",
       "    </tr>\n",
       "    <tr>\n",
       "      <th>50%</th>\n",
       "      <td>5458.500000</td>\n",
       "      <td>1970.000000</td>\n",
       "      <td>0.000000</td>\n",
       "      <td>0.000000</td>\n",
       "      <td>49.000000</td>\n",
       "      <td>173.500000</td>\n",
       "      <td>8.000000</td>\n",
       "      <td>67.000000</td>\n",
       "      <td>12.000000</td>\n",
       "      <td>8.000000</td>\n",
       "      <td>...</td>\n",
       "      <td>2.000000</td>\n",
       "      <td>5.000000</td>\n",
       "      <td>6.000000</td>\n",
       "      <td>0.000000</td>\n",
       "      <td>0.000000</td>\n",
       "      <td>0.000000</td>\n",
       "      <td>0.000000</td>\n",
       "      <td>0.000000</td>\n",
       "      <td>0.000000</td>\n",
       "      <td>0.000000</td>\n",
       "    </tr>\n",
       "    <tr>\n",
       "      <th>75%</th>\n",
       "      <td>8427.750000</td>\n",
       "      <td>1977.000000</td>\n",
       "      <td>1.000000</td>\n",
       "      <td>1.000000</td>\n",
       "      <td>74.000000</td>\n",
       "      <td>504.250000</td>\n",
       "      <td>33.000000</td>\n",
       "      <td>232.000000</td>\n",
       "      <td>50.000000</td>\n",
       "      <td>33.000000</td>\n",
       "      <td>...</td>\n",
       "      <td>4.000000</td>\n",
       "      <td>8.000000</td>\n",
       "      <td>7.000000</td>\n",
       "      <td>0.000000</td>\n",
       "      <td>0.000000</td>\n",
       "      <td>0.000000</td>\n",
       "      <td>0.000000</td>\n",
       "      <td>0.000000</td>\n",
       "      <td>0.000000</td>\n",
       "      <td>0.000000</td>\n",
       "    </tr>\n",
       "    <tr>\n",
       "      <th>max</th>\n",
       "      <td>11191.000000</td>\n",
       "      <td>1996.000000</td>\n",
       "      <td>2.000000</td>\n",
       "      <td>2.000000</td>\n",
       "      <td>99.000000</td>\n",
       "      <td>1493.000000</td>\n",
       "      <td>199.000000</td>\n",
       "      <td>1725.000000</td>\n",
       "      <td>259.000000</td>\n",
       "      <td>263.000000</td>\n",
       "      <td>...</td>\n",
       "      <td>28.000000</td>\n",
       "      <td>13.000000</td>\n",
       "      <td>20.000000</td>\n",
       "      <td>1.000000</td>\n",
       "      <td>1.000000</td>\n",
       "      <td>1.000000</td>\n",
       "      <td>1.000000</td>\n",
       "      <td>1.000000</td>\n",
       "      <td>1.000000</td>\n",
       "      <td>1.000000</td>\n",
       "    </tr>\n",
       "  </tbody>\n",
       "</table>\n",
       "<p>8 rows × 23 columns</p>\n",
       "</div>"
      ],
      "text/plain": [
       "                 ID   Year_Birth      Kidhome     Teenhome      Recency  \\\n",
       "count   2240.000000  2240.000000  2240.000000  2240.000000  2240.000000   \n",
       "mean    5592.159821  1968.805804     0.444196     0.506250    49.109375   \n",
       "std     3246.662198    11.984069     0.538398     0.544538    28.962453   \n",
       "min        0.000000  1893.000000     0.000000     0.000000     0.000000   \n",
       "25%     2828.250000  1959.000000     0.000000     0.000000    24.000000   \n",
       "50%     5458.500000  1970.000000     0.000000     0.000000    49.000000   \n",
       "75%     8427.750000  1977.000000     1.000000     1.000000    74.000000   \n",
       "max    11191.000000  1996.000000     2.000000     2.000000    99.000000   \n",
       "\n",
       "          MntWines    MntFruits  MntMeatProducts  MntFishProducts  \\\n",
       "count  2240.000000  2240.000000      2240.000000      2240.000000   \n",
       "mean    303.935714    26.302232       166.950000        37.525446   \n",
       "std     336.597393    39.773434       225.715373        54.628979   \n",
       "min       0.000000     0.000000         0.000000         0.000000   \n",
       "25%      23.750000     1.000000        16.000000         3.000000   \n",
       "50%     173.500000     8.000000        67.000000        12.000000   \n",
       "75%     504.250000    33.000000       232.000000        50.000000   \n",
       "max    1493.000000   199.000000      1725.000000       259.000000   \n",
       "\n",
       "       MntSweetProducts  ...  NumCatalogPurchases  NumStorePurchases  \\\n",
       "count       2240.000000  ...          2240.000000        2240.000000   \n",
       "mean          27.062946  ...             2.662054           5.790179   \n",
       "std           41.280498  ...             2.923101           3.250958   \n",
       "min            0.000000  ...             0.000000           0.000000   \n",
       "25%            1.000000  ...             0.000000           3.000000   \n",
       "50%            8.000000  ...             2.000000           5.000000   \n",
       "75%           33.000000  ...             4.000000           8.000000   \n",
       "max          263.000000  ...            28.000000          13.000000   \n",
       "\n",
       "       NumWebVisitsMonth  AcceptedCmp3  AcceptedCmp4  AcceptedCmp5  \\\n",
       "count        2240.000000   2240.000000   2240.000000   2240.000000   \n",
       "mean            5.316518      0.072768      0.074554      0.072768   \n",
       "std             2.426645      0.259813      0.262728      0.259813   \n",
       "min             0.000000      0.000000      0.000000      0.000000   \n",
       "25%             3.000000      0.000000      0.000000      0.000000   \n",
       "50%             6.000000      0.000000      0.000000      0.000000   \n",
       "75%             7.000000      0.000000      0.000000      0.000000   \n",
       "max            20.000000      1.000000      1.000000      1.000000   \n",
       "\n",
       "       AcceptedCmp1  AcceptedCmp2     Response     Complain  \n",
       "count   2240.000000   2240.000000  2240.000000  2240.000000  \n",
       "mean       0.064286      0.013393     0.149107     0.009375  \n",
       "std        0.245316      0.114976     0.356274     0.096391  \n",
       "min        0.000000      0.000000     0.000000     0.000000  \n",
       "25%        0.000000      0.000000     0.000000     0.000000  \n",
       "50%        0.000000      0.000000     0.000000     0.000000  \n",
       "75%        0.000000      0.000000     0.000000     0.000000  \n",
       "max        1.000000      1.000000     1.000000     1.000000  \n",
       "\n",
       "[8 rows x 23 columns]"
      ]
     },
     "execution_count": 3,
     "metadata": {},
     "output_type": "execute_result"
    }
   ],
   "source": [
    "df.describe()"
   ]
  },
  {
   "cell_type": "code",
   "execution_count": 4,
   "id": "05275169",
   "metadata": {},
   "outputs": [
    {
     "name": "stdout",
     "output_type": "stream",
     "text": [
      "<class 'pandas.core.frame.DataFrame'>\n",
      "Int64Index: 2240 entries, 134 to 2239\n",
      "Data columns (total 28 columns):\n",
      " #   Column               Non-Null Count  Dtype \n",
      "---  ------               --------------  ----- \n",
      " 0   ID                   2240 non-null   int64 \n",
      " 1   Year_Birth           2240 non-null   int64 \n",
      " 2   Education            2240 non-null   object\n",
      " 3   Marital_Status       2240 non-null   object\n",
      " 4   Income               2240 non-null   int32 \n",
      " 5   Kidhome              2240 non-null   int64 \n",
      " 6   Teenhome             2240 non-null   int64 \n",
      " 7   Dt_Customer          2240 non-null   object\n",
      " 8   Recency              2240 non-null   int64 \n",
      " 9   MntWines             2240 non-null   int64 \n",
      " 10  MntFruits            2240 non-null   int64 \n",
      " 11  MntMeatProducts      2240 non-null   int64 \n",
      " 12  MntFishProducts      2240 non-null   int64 \n",
      " 13  MntSweetProducts     2240 non-null   int64 \n",
      " 14  MntGoldProds         2240 non-null   int64 \n",
      " 15  NumDealsPurchases    2240 non-null   int64 \n",
      " 16  NumWebPurchases      2240 non-null   int64 \n",
      " 17  NumCatalogPurchases  2240 non-null   int64 \n",
      " 18  NumStorePurchases    2240 non-null   int64 \n",
      " 19  NumWebVisitsMonth    2240 non-null   int64 \n",
      " 20  AcceptedCmp3         2240 non-null   int64 \n",
      " 21  AcceptedCmp4         2240 non-null   int64 \n",
      " 22  AcceptedCmp5         2240 non-null   int64 \n",
      " 23  AcceptedCmp1         2240 non-null   int64 \n",
      " 24  AcceptedCmp2         2240 non-null   int64 \n",
      " 25  Response             2240 non-null   int64 \n",
      " 26  Complain             2240 non-null   int64 \n",
      " 27  Country              2240 non-null   object\n",
      "dtypes: int32(1), int64(23), object(4)\n",
      "memory usage: 498.8+ KB\n"
     ]
    },
    {
     "name": "stderr",
     "output_type": "stream",
     "text": [
      "<ipython-input-4-e85192d5cbc4>:6: FutureWarning: The default value of regex will change from True to False in a future version. In addition, single character regular expressions will *not* be treated as literal strings when regex=True.\n",
      "  df1.Income = df1.Income.str.replace(\".\", \"\")\n",
      "C:\\Users\\u6046596\\Anaconda3\\lib\\site-packages\\pandas\\core\\frame.py:3607: SettingWithCopyWarning: \n",
      "A value is trying to be set on a copy of a slice from a DataFrame.\n",
      "Try using .loc[row_indexer,col_indexer] = value instead\n",
      "\n",
      "See the caveats in the documentation: https://pandas.pydata.org/pandas-docs/stable/user_guide/indexing.html#returning-a-view-versus-a-copy\n",
      "  self._set_item(key, value)\n",
      "<ipython-input-4-e85192d5cbc4>:16: FutureWarning: The default value of regex will change from True to False in a future version.\n",
      "  NoInc.Income = NoInc.Income.str.replace(\".5\", \"\")\n"
     ]
    }
   ],
   "source": [
    "### Renaming Income column by removing space infront of it\n",
    "df1=df.copy()\n",
    "df1.rename(columns={' Income ':'Income'}, inplace=True)\n",
    "## Removing dollar signs, spaces, commas, and dots from Income column\n",
    "df1.Income = df1.Income.str.strip('$')\n",
    "df1.Income = df1.Income.str.replace(\".\", \"\")\n",
    "df1.Income = df1.Income.str.replace(\",\", \"\")\n",
    "df1.Income = df1.Income.str.replace(\"00 \", \"\")\n",
    "## Removing nulls from Income column and changing it to int\n",
    "Inc= df1[df1.Income.isnull()==False]\n",
    "NoInc = df1[df1.Income.isnull()==True]\n",
    "Inc.Income = Inc.Income.astype(int)\n",
    "# give a string value of \"0\" to missing value, then we can convert it into int type\n",
    "NoInc.Income = str(Inc.Income.median())\n",
    "\n",
    "NoInc.Income = NoInc.Income.str.replace(\".5\", \"\")\n",
    "NoInc.Income = NoInc.Income.astype(int)\n",
    "df2 = NoInc.append(Inc)\n",
    "df2.info()"
   ]
  },
  {
   "cell_type": "code",
   "execution_count": 5,
   "id": "4e06834e",
   "metadata": {},
   "outputs": [],
   "source": [
    "# Converting Dt_customer to date from string\n",
    "df2.Dt_Customer = pd.to_datetime(df2.Dt_Customer)\n",
    "df2.reset_index(drop=True)\n",
    "df2.to_csv('preprocessed.csv', index=False)"
   ]
  },
  {
   "cell_type": "markdown",
   "id": "ae1257b7",
   "metadata": {},
   "source": [
    "#EXPLORATORY DATA ANALYSIS"
   ]
  },
  {
   "cell_type": "code",
   "execution_count": 7,
   "id": "f631048b",
   "metadata": {},
   "outputs": [],
   "source": [
    "df3=pd.read_csv('preprocessed.csv')"
   ]
  },
  {
   "cell_type": "code",
   "execution_count": 10,
   "id": "6e91deaf",
   "metadata": {},
   "outputs": [
    {
     "data": {
      "image/png": "[encoded data removed]",
      "text/plain": [
       "<Figure size 864x1008 with 16 Axes>"
      ]
     },
     "metadata": {
      "needs_background": "light"
     },
     "output_type": "display_data"
    }
   ],
   "source": [
    "### Handling Outliers\n",
    "\n",
    "import numpy as np\n",
    "import matplotlib.pyplot as plt\n",
    "\n",
    "# select columns to plot\n",
    "df_f = df3.drop(columns=['ID', \n",
    "                              'AcceptedCmp1', 'AcceptedCmp2', 'AcceptedCmp3', 'AcceptedCmp4', 'AcceptedCmp5',\n",
    "                              'Response', 'Complain']).select_dtypes(include=np.number)\n",
    "# subplots\n",
    "df_f.plot(subplots=True, layout=(4,4), kind='box', figsize=(12,14), patch_artist=True)\n",
    "plt.suptitle('Find Outliers', fontsize=15, y=0.9)\n",
    "plt.savefig('boxplots.png', bbox_inches='tight')"
   ]
  },
  {
   "cell_type": "code",
   "execution_count": 11,
   "id": "c59c13ba",
   "metadata": {},
   "outputs": [
    {
     "data": {
      "text/plain": [
       "count    2240.000000\n",
       "mean     1968.805804\n",
       "std        11.984069\n",
       "min      1893.000000\n",
       "25%      1959.000000\n",
       "50%      1970.000000\n",
       "75%      1977.000000\n",
       "max      1996.000000\n",
       "Name: Year_Birth, dtype: float64"
      ]
     },
     "execution_count": 11,
     "metadata": {},
     "output_type": "execute_result"
    }
   ],
   "source": [
    "df3.Year_Birth.describe()"
   ]
  },
  {
   "cell_type": "code",
   "execution_count": 12,
   "id": "d10bc9da",
   "metadata": {},
   "outputs": [
    {
     "data": {
      "text/plain": [
       "count    2237.000000\n",
       "mean     1968.901654\n",
       "std        11.701917\n",
       "min      1940.000000\n",
       "25%      1959.000000\n",
       "50%      1970.000000\n",
       "75%      1977.000000\n",
       "max      1996.000000\n",
       "Name: Year_Birth, dtype: float64"
      ]
     },
     "execution_count": 12,
     "metadata": {},
     "output_type": "execute_result"
    }
   ],
   "source": [
    "df4 = df3[df3.Year_Birth >= (df3.Year_Birth.mean()-3*df3.Year_Birth.std())]\n",
    "df4.Year_Birth.describe()"
   ]
  },
  {
   "cell_type": "code",
   "execution_count": 13,
   "id": "fd4d1d64",
   "metadata": {},
   "outputs": [
    {
     "name": "stderr",
     "output_type": "stream",
     "text": [
      "C:\\Users\\u6046596\\Anaconda3\\lib\\site-packages\\pandas\\core\\frame.py:3607: SettingWithCopyWarning: \n",
      "A value is trying to be set on a copy of a slice from a DataFrame.\n",
      "Try using .loc[row_indexer,col_indexer] = value instead\n",
      "\n",
      "See the caveats in the documentation: https://pandas.pydata.org/pandas-docs/stable/user_guide/indexing.html#returning-a-view-versus-a-copy\n",
      "  self._set_item(key, value)\n"
     ]
    }
   ],
   "source": [
    "df4.Dt_Customer = pd.to_datetime(df4.Dt_Customer)"
   ]
  },
  {
   "cell_type": "code",
   "execution_count": 14,
   "id": "9aea2104",
   "metadata": {},
   "outputs": [],
   "source": [
    "###### Creating new features\n",
    "\n",
    "df4[\"Join_year\"] = df4.Dt_Customer.dt.year\n",
    "df4[\"Join_month\"] = df4.Dt_Customer.dt.month\n",
    "df4[\"Join_weekday\"] = df4.Dt_Customer.dt.weekday\n",
    "df4[\"Minorhome\"] = df4.Kidhome + df4.Teenhome\n",
    "df4['Total_Mnt'] = df4.MntWines+ df4.MntFruits+ df4.MntMeatProducts+ df4.MntFishProducts+ df4.MntSweetProducts+ df4.MntGoldProds \n",
    "df4['Total_num_purchase'] = df4.NumDealsPurchases+ df4.NumWebPurchases+ df4.NumCatalogPurchases+ df4.NumStorePurchases+ df4.NumWebVisitsMonth \n",
    "df4['Total_accept'] = df4.AcceptedCmp1 + df4.AcceptedCmp2 + df4.AcceptedCmp2 + df4.AcceptedCmp2  + df4.AcceptedCmp3 + df4.AcceptedCmp4 + df4.AcceptedCmp5 + df4.Response\n",
    "df4['AOV'] = df4.Total_Mnt/df4.Total_num_purchase"
   ]
  },
  {
   "cell_type": "code",
   "execution_count": 16,
   "id": "55e93772",
   "metadata": {},
   "outputs": [
    {
     "data": {
      "image/png": "[encoded data removed]",
      "text/plain": [
       "<Figure size 864x648 with 2 Axes>"
      ]
     },
     "metadata": {
      "needs_background": "light"
     },
     "output_type": "display_data"
    }
   ],
   "source": [
    "### Plotting Correlation\n",
    "\n",
    "import seaborn as sb\n",
    "\n",
    "\n",
    "df5 = df4.drop(columns=['ID'])\n",
    "\n",
    "# create heatmap\n",
    "plt.figure(figsize = (12, 9))\n",
    "s = sb.heatmap(df5.corr(),  cmap = 'RdBu',vmin = -1, vmax = 1,center = 0)\n",
    "s.set_yticklabels(s.get_yticklabels(), rotation = 0, fontsize = 12)\n",
    "s.set_xticklabels(s.get_xticklabels(), rotation = 90, fontsize = 12)\n",
    "bottom, top = s.get_ylim()\n",
    "s.set_ylim(bottom + 0.5, top - 0.5)\n",
    "plt.title(\"Correlation Heatmap\")\n",
    "plt.savefig('heatmap.png', bbox_inches='tight')\n",
    "plt.show()"
   ]
  },
  {
   "cell_type": "code",
   "execution_count": 18,
   "id": "eb5bfc5e",
   "metadata": {},
   "outputs": [
    {
     "data": {
      "text/plain": [
       "Index(['Year_Birth', 'Education', 'Marital_Status', 'Income', 'Kidhome',\n",
       "       'Teenhome', 'Dt_Customer', 'Recency', 'MntWines', 'MntFruits',\n",
       "       'MntMeatProducts', 'MntFishProducts', 'MntSweetProducts',\n",
       "       'MntGoldProds', 'NumDealsPurchases', 'NumWebPurchases',\n",
       "       'NumCatalogPurchases', 'NumStorePurchases', 'NumWebVisitsMonth',\n",
       "       'AcceptedCmp3', 'AcceptedCmp4', 'AcceptedCmp5', 'AcceptedCmp1',\n",
       "       'AcceptedCmp2', 'Response', 'Complain', 'Country', 'Join_year',\n",
       "       'Join_month', 'Join_weekday', 'Minorhome', 'Total_Mnt',\n",
       "       'Total_num_purchase', 'Total_accept', 'AOV'],\n",
       "      dtype='object')"
      ]
     },
     "execution_count": 18,
     "metadata": {},
     "output_type": "execute_result"
    }
   ],
   "source": [
    "df5.columns"
   ]
  },
  {
   "cell_type": "code",
   "execution_count": 19,
   "id": "4d807046",
   "metadata": {},
   "outputs": [
    {
     "name": "stdout",
     "output_type": "stream",
     "text": [
      "Pearson correlation (r):  -0.03373965091266398\n",
      "Pearson p-value:  0.11063526070950919\n"
     ]
    }
   ],
   "source": [
    "# Ideally, if the number of complaints are more, the total amount should be less\n",
    "from scipy.stats import pearsonr\n",
    "\n",
    "r, p_value  =  pearsonr(x=df4['Complain'], y=df4['Total_Mnt'])\n",
    "\n",
    "# print results\n",
    "print('Pearson correlation (r): ', r)\n",
    "print('Pearson p-value: ', p_value)"
   ]
  },
  {
   "cell_type": "code",
   "execution_count": 20,
   "id": "4ff8aa65",
   "metadata": {},
   "outputs": [
    {
     "data": {
      "image/png": "[encoded data removed]",
      "text/plain": [
       "<Figure size 432x288 with 1 Axes>"
      ]
     },
     "metadata": {
      "needs_background": "light"
     },
     "output_type": "display_data"
    }
   ],
   "source": [
    "## However, there is no correlation between these two\n",
    "\n",
    "# Visualize NumWebPurchases vs NumWebVisitsMonth\n",
    "df4.plot(x='NumWebPurchases', y='NumWebVisitsMonth', kind='scatter')\n",
    "plt.title(\"NumWebPurchases vs NumWebVisitsMonth\");"
   ]
  },
  {
   "cell_type": "markdown",
   "id": "85a3155f",
   "metadata": {},
   "source": [
    "# Question:   What factors are significantly related to the number of store purchases?"
   ]
  },
  {
   "cell_type": "code",
   "execution_count": 21,
   "id": "c6f6ddfe",
   "metadata": {},
   "outputs": [
    {
     "data": {
      "image/png": "[encoded data removed]",
      "text/plain": [
       "<Figure size 432x288 with 1 Axes>"
      ]
     },
     "metadata": {
      "needs_background": "light"
     },
     "output_type": "display_data"
    }
   ],
   "source": [
    "df4.NumStorePurchases.hist()\n",
    "plt.title(\"Distribution of the number of store purchases\");"
   ]
  },
  {
   "cell_type": "code",
   "execution_count": 22,
   "id": "a7145a5b",
   "metadata": {},
   "outputs": [
    {
     "name": "stdout",
     "output_type": "stream",
     "text": [
      "Mean Absolute Error: 0.7400967261904763\n",
      "Mean Squared Error: 1.3055299479166667\n",
      "Root Mean Squared Error: 1.1425978942378052\n"
     ]
    }
   ],
   "source": [
    "# drop ID as everyone has unique ID\n",
    "df6 = df4.drop(columns=['ID', 'Dt_Customer'])\n",
    "df6.replace([np.inf, -np.inf], 0, inplace=True)\n",
    "\n",
    "# One-hot encoding\n",
    "df6 = pd.get_dummies(df6)\n",
    "\n",
    "# Import train_test_split function\n",
    "from sklearn.model_selection import train_test_split\n",
    "\n",
    "X=df6.drop(columns=['NumStorePurchases'])  # Features\n",
    "y=df6['NumStorePurchases']  # Labels\n",
    "\n",
    "# Split dataset into training set and test set\n",
    "X_train, X_test, y_train, y_test = train_test_split(X, y, test_size=0.3) \n",
    "# 70% training and 30% test\n",
    "\n",
    "#Import Random Forest Model\n",
    "from sklearn.ensemble import RandomForestRegressor\n",
    "\n",
    "#Create a Random Forest Classifier with 100 trees\n",
    "rg = RandomForestRegressor(n_estimators=200, n_jobs=-1)\n",
    "\n",
    "#Train the model using the training sets y_pred=clf.predict(X_test)\n",
    "rg.fit(X_train, y_train)\n",
    "\n",
    "y_pred=rg.predict(X_test)\n",
    "\n",
    "from sklearn import metrics\n",
    "\n",
    "print('Mean Absolute Error:', metrics.mean_absolute_error(y_test, y_pred))\n",
    "print('Mean Squared Error:', metrics.mean_squared_error(y_test, y_pred))\n",
    "print('Root Mean Squared Error:', np.sqrt(metrics.mean_squared_error(y_test, y_pred)))"
   ]
  },
  {
   "cell_type": "code",
   "execution_count": 23,
   "id": "59ca9247",
   "metadata": {},
   "outputs": [
    {
     "data": {
      "image/png": "[encoded data removed]",
      "text/plain": [
       "<Figure size 504x504 with 1 Axes>"
      ]
     },
     "metadata": {
      "needs_background": "light"
     },
     "output_type": "display_data"
    }
   ],
   "source": [
    "# The range of NumStorePurchases is 13 and RMSE is less than 10% of the range\n",
    "\n",
    "\n",
    "# find feature importance scores\n",
    "feature_imp = pd.Series(rg.feature_importances_, \n",
    "        index = list(X.columns)).sort_values(ascending=False)\n",
    "\n",
    "feature_imp = feature_imp[:10]\n",
    "\n",
    "# Creating a bar plot\n",
    "plt.figure(figsize = (7, 7))\n",
    "sb.barplot(x=feature_imp[:10], y=feature_imp.index[:10])\n",
    "# Add labels to your graph\n",
    "plt.xlabel('Feature Importance Score')\n",
    "plt.ylabel('Features')\n",
    "plt.title(\"Visualizing Top 10 Important Features\")\n",
    "plt.savefig('important_feautres.png', bbox_inches='tight')\n",
    "plt.show()"
   ]
  },
  {
   "cell_type": "code",
   "execution_count": 24,
   "id": "e6f0e51f",
   "metadata": {},
   "outputs": [],
   "source": [
    "## By looking at the correlation coefficient, we can come to an understanding\n",
    "\n",
    "#The number of store purchase increases with higher total amount spent, \n",
    "#     higher total purchase amount, higher AOV, and higher amount of wines purchases. \n",
    "# The number of store purchase decreases with higher number of website visits, \n",
    "#      higher number of purchases through catalog, and higher number of purchases through websites.\n",
    "\n",
    "## Summary: People who mostly shop at store tend to buy more wines, \n",
    "##          have higher average order volumne, and shop less through internet of catalog."
   ]
  },
  {
   "cell_type": "code",
   "execution_count": 25,
   "id": "5e1eb48d",
   "metadata": {},
   "outputs": [
    {
     "name": "stderr",
     "output_type": "stream",
     "text": [
      "C:\\Users\\u6046596\\Anaconda3\\lib\\site-packages\\pandas\\core\\frame.py:3607: SettingWithCopyWarning: \n",
      "A value is trying to be set on a copy of a slice from a DataFrame.\n",
      "Try using .loc[row_indexer,col_indexer] = value instead\n",
      "\n",
      "See the caveats in the documentation: https://pandas.pydata.org/pandas-docs/stable/user_guide/indexing.html#returning-a-view-versus-a-copy\n",
      "  self._set_item(key, value)\n"
     ]
    },
    {
     "data": {
      "image/png": "[encoded data removed]",
      "text/plain": [
       "<Figure size 360x432 with 1 Axes>"
      ]
     },
     "metadata": {
      "needs_background": "light"
     },
     "output_type": "display_data"
    }
   ],
   "source": [
    "store_shoppers = df4[df4.NumStorePurchases>0]\n",
    "store_shoppers = store_shoppers[store_shoppers.AOV <= (store_shoppers.AOV.mean()+3*store_shoppers.AOV.std())]\n",
    "store_shoppers['Type of shopper'] = \"In-store\"\n",
    "other_shoppers = df4[df4.NumStorePurchases==0]\n",
    "other_shoppers['Type of shopper'] = \"Other\"\n",
    "\n",
    "plt.figure(figsize = (5, 6))\n",
    "all_shoppers = store_shoppers.append(other_shoppers)\n",
    "plt.title(\"Do in-store shoppers have a higher average order volume?\")\n",
    "sb.boxplot(data = all_shoppers, x = 'Type of shopper', y = 'AOV')\n",
    "plt.ylabel(\"Average Order Volume\")\n",
    "plt.savefig('AOV.png', bbox_inches='tight')"
   ]
  },
  {
   "cell_type": "code",
   "execution_count": 26,
   "id": "76a87913",
   "metadata": {},
   "outputs": [
    {
     "name": "stdout",
     "output_type": "stream",
     "text": [
      "Pearson correlation (r):  0.5505389394031128\n",
      "Pearson p-value:  2.0526348645442993e-177\n"
     ]
    }
   ],
   "source": [
    "from scipy.stats import pearsonr\n",
    "all_shoppers.replace([np.inf, -np.inf], 0, inplace=True)\n",
    "r, p_value  =  pearsonr(x=all_shoppers['AOV'], y=all_shoppers['NumStorePurchases'])\n",
    "\n",
    "# print results\n",
    "print('Pearson correlation (r): ', r)\n",
    "print('Pearson p-value: ', p_value)"
   ]
  },
  {
   "cell_type": "markdown",
   "id": "712cea67",
   "metadata": {},
   "source": [
    "# Q2 : Hypothesis:People who buy gold are more conservative. Therefore, people who spent an above average amount on gold in the last 2 years would have more in store purchases. Test this hypothesis"
   ]
  },
  {
   "cell_type": "code",
   "execution_count": 28,
   "id": "ce060ee8",
   "metadata": {},
   "outputs": [
    {
     "name": "stdout",
     "output_type": "stream",
     "text": [
      "Pearson correlation (r):  0.3832641863470429\n",
      "Pearson p-value:  3.4668974417790955e-79\n"
     ]
    }
   ],
   "source": [
    "from scipy.stats import pearsonr\n",
    "\n",
    "r, p_value  =  pearsonr(x=df4['MntGoldProds'], y=df4['NumStorePurchases'])\n",
    "\n",
    "# print results\n",
    "print('Pearson correlation (r): ', r)\n",
    "print('Pearson p-value: ', p_value)"
   ]
  },
  {
   "cell_type": "code",
   "execution_count": 29,
   "id": "1761eb58",
   "metadata": {},
   "outputs": [
    {
     "name": "stderr",
     "output_type": "stream",
     "text": [
      "C:\\Users\\u6046596\\Anaconda3\\lib\\site-packages\\pandas\\core\\frame.py:3607: SettingWithCopyWarning: \n",
      "A value is trying to be set on a copy of a slice from a DataFrame.\n",
      "Try using .loc[row_indexer,col_indexer] = value instead\n",
      "\n",
      "See the caveats in the documentation: https://pandas.pydata.org/pandas-docs/stable/user_guide/indexing.html#returning-a-view-versus-a-copy\n",
      "  self._set_item(key, value)\n"
     ]
    },
    {
     "data": {
      "image/png": "[encoded data removed]",
      "text/plain": [
       "<Figure size 288x360 with 1 Axes>"
      ]
     },
     "metadata": {
      "needs_background": "light"
     },
     "output_type": "display_data"
    }
   ],
   "source": [
    "gold_above_avg =  df4[df4.MntGoldProds > df4.MntGoldProds.mean()]\n",
    "gold_above_avg['Gold Purchases Amount'] = \"Above Average\"\n",
    "gold_equ_or_below_avg =  df4[df4.MntGoldProds <= df4.MntGoldProds.mean()]\n",
    "gold_equ_or_below_avg['Gold Purchases Amount'] = \"Equals or Below Average\"\n",
    "\n",
    "plt.figure(figsize = (4, 5))\n",
    "df_gold = gold_above_avg.append(gold_equ_or_below_avg)\n",
    "plt.title(\"2 Gold Purchases Groups\")\n",
    "sb.boxplot(data = df_gold, x = 'Gold Purchases Amount', y = 'NumStorePurchases')\n",
    "plt.ylabel(\"Number of In-Store Purchases\");"
   ]
  },
  {
   "cell_type": "markdown",
   "id": "f21163ba",
   "metadata": {},
   "source": [
    "# Q3: Which marketing campaign is most successful?"
   ]
  },
  {
   "cell_type": "code",
   "execution_count": 30,
   "id": "53e3ef10",
   "metadata": {},
   "outputs": [
    {
     "data": {
      "image/png": "[encoded data removed]",
      "text/plain": [
       "<Figure size 432x288 with 1 Axes>"
      ]
     },
     "metadata": {
      "needs_background": "light"
     },
     "output_type": "display_data"
    }
   ],
   "source": [
    "df4[[\"AcceptedCmp1\", \"AcceptedCmp2\",\"AcceptedCmp3\",\"AcceptedCmp4\",\"AcceptedCmp5\",\"Response\"]].sum().sort_values().plot.barh()\n",
    "plt.title(\"Which marketing campaign is most successful?\")\n",
    "plt.xlabel(\"Offer Accepted\");\n",
    "plt.ylabel(\"Campaign\")\n",
    "plt.savefig('Which marketing campaign is most successful.png', bbox_inches='tight')"
   ]
  },
  {
   "cell_type": "code",
   "execution_count": 32,
   "id": "3e3de2c7",
   "metadata": {},
   "outputs": [
    {
     "name": "stderr",
     "output_type": "stream",
     "text": [
      "C:\\Users\\u6046596\\Anaconda3\\lib\\site-packages\\pandas\\core\\frame.py:5233: SettingWithCopyWarning: \n",
      "A value is trying to be set on a copy of a slice from a DataFrame\n",
      "\n",
      "See the caveats in the documentation: https://pandas.pydata.org/pandas-docs/stable/user_guide/indexing.html#returning-a-view-versus-a-copy\n",
      "  return super().replace(\n",
      "<ipython-input-32-405cf7c13a87>:2: FutureWarning: DataFrame.mean and DataFrame.median with numeric_only=None will include datetime64 and datetime64tz columns in a future version.\n",
      "  df4.mean()\n",
      "<ipython-input-32-405cf7c13a87>:2: FutureWarning: Dropping of nuisance columns in DataFrame reductions (with 'numeric_only=None') is deprecated; in a future version this will raise TypeError.  Select only valid columns before calling the reduction.\n",
      "  df4.mean()\n"
     ]
    },
    {
     "data": {
      "text/plain": [
       "ID                      5590.726419\n",
       "Year_Birth              1968.901654\n",
       "Income                 52227.402325\n",
       "Kidhome                    0.444345\n",
       "Teenhome                   0.506482\n",
       "Recency                   49.104604\n",
       "MntWines                 303.995530\n",
       "MntFruits                 26.270451\n",
       "MntMeatProducts          166.916853\n",
       "MntFishProducts           37.523022\n",
       "MntSweetProducts          27.068842\n",
       "MntGoldProds              43.968708\n",
       "NumDealsPurchases          2.326777\n",
       "NumWebPurchases            4.087170\n",
       "NumCatalogPurchases        2.662494\n",
       "NumStorePurchases          5.794367\n",
       "NumWebVisitsMonth          5.319177\n",
       "AcceptedCmp3               0.072865\n",
       "AcceptedCmp4               0.074654\n",
       "AcceptedCmp5               0.072418\n",
       "AcceptedCmp1               0.064372\n",
       "AcceptedCmp2               0.013411\n",
       "Response                   0.149307\n",
       "Complain                   0.008941\n",
       "Join_year               2013.027716\n",
       "Join_month                 6.465802\n",
       "Join_weekday               2.988824\n",
       "Minorhome                  0.950827\n",
       "Total_Mnt                605.743406\n",
       "Total_num_purchase        20.189987\n",
       "Total_accept               0.473849\n",
       "AOV                       26.842831\n",
       "dtype: float64"
      ]
     },
     "execution_count": 32,
     "metadata": {},
     "output_type": "execute_result"
    }
   ],
   "source": [
    "df4.replace([np.inf, -np.inf], 0, inplace=True)\n",
    "df4.mean()"
   ]
  },
  {
   "cell_type": "markdown",
   "id": "d07b6168",
   "metadata": {},
   "source": [
    "# Which Marketing Channels are Underperforming?"
   ]
  },
  {
   "cell_type": "code",
   "execution_count": 33,
   "id": "f4eeaf17",
   "metadata": {},
   "outputs": [
    {
     "data": {
      "text/plain": [
       "Text(0, 0.5, 'Channel')"
      ]
     },
     "execution_count": 33,
     "metadata": {},
     "output_type": "execute_result"
    },
    {
     "data": {
      "image/png": "[encoded data removed]",
      "text/plain": [
       "<Figure size 432x288 with 1 Axes>"
      ]
     },
     "metadata": {
      "needs_background": "light"
     },
     "output_type": "display_data"
    }
   ],
   "source": [
    "df4[[\"NumWebPurchases\", \"NumCatalogPurchases\", \"NumStorePurchases\"]].sum().sort_values().plot.barh()\n",
    "plt.title(\"Which marketing channels are underperforming?\")\n",
    "plt.xlabel(\"Total number of purchases\")\n",
    "plt.ylabel(\"Channel\")"
   ]
  },
  {
   "cell_type": "markdown",
   "id": "1f47bd5c",
   "metadata": {},
   "source": [
    "# Further Investigation:\n",
    "Now that we know the last campaign is the most successful one, we can further investigate the differences in the customer characteristics and purchases behaviors(listed below) between the most succesful campaing, the last one, and the rest of the campaigns, the campaign 1-5.\n",
    "\n",
    "Characteristics: 'Year_Birth', 'Income', 'Minorhome', 'Country', 'Join_month', 'Join_weekday'\n",
    "\n",
    "Purchase behaviors:\n",
    "\n",
    "Products: 'MntWines', 'MntFruits', 'MntMeatProducts', 'MntFishProducts', 'MntSweetProducts'\n",
    "\n",
    "Channel: 'NumWebPurchases', 'NumCatalogPurchases', 'NumStorePurchases'\n",
    "\n",
    "Total: 'Total_Mnt', 'Total_num_purchase', 'AOV'"
   ]
  },
  {
   "cell_type": "code",
   "execution_count": 34,
   "id": "6e516020",
   "metadata": {},
   "outputs": [
    {
     "data": {
      "text/plain": [
       "(334, 2207)"
      ]
     },
     "execution_count": 34,
     "metadata": {},
     "output_type": "execute_result"
    }
   ],
   "source": [
    "# creating two groups to split people who accepted offers from last vs rest of the campaigns\n",
    "cp_last = df4[df4.Response > 0]\n",
    "cp__the_rest = df4[df4.AcceptedCmp2 == 0]\n",
    "\n",
    "cp_last.shape[0], cp__the_rest.shape[0]"
   ]
  },
  {
   "cell_type": "code",
   "execution_count": 35,
   "id": "a0443f89",
   "metadata": {},
   "outputs": [
    {
     "data": {
      "text/plain": [
       "(334, 1893)"
      ]
     },
     "execution_count": 35,
     "metadata": {},
     "output_type": "execute_result"
    }
   ],
   "source": [
    "# remove the overlapping customers who accepted offers from both cp_last and cp__the_rest \n",
    "# so that twe can see the clear differences between these two groups\n",
    "cp__the_rest2 = cp__the_rest\n",
    "for i in list(cp__the_rest.ID):\n",
    "    if i in list(cp_last.ID):\n",
    "        cp__the_rest2 = cp__the_rest2[cp__the_rest2.ID != i]\n",
    "        \n",
    "cp_last.shape[0], cp__the_rest2.shape[0]"
   ]
  },
  {
   "cell_type": "code",
   "execution_count": 36,
   "id": "9eb86380",
   "metadata": {},
   "outputs": [],
   "source": [
    "cp_last = cp_last[['Year_Birth', 'Income', 'Minorhome', 'Country', 'Join_month', 'Join_weekday',\n",
    "                  'MntWines', 'MntFruits', 'MntMeatProducts', 'MntFishProducts', 'MntSweetProducts',\n",
    "                  'NumWebPurchases', 'NumCatalogPurchases', 'NumStorePurchases',\n",
    "                  'Total_Mnt', 'Total_num_purchase', 'AOV']]\n",
    "cp__the_rest2 = cp__the_rest2[['Year_Birth', 'Income', 'Minorhome', 'Country', 'Join_month', 'Join_weekday',\n",
    "                  'MntWines', 'MntFruits', 'MntMeatProducts', 'MntFishProducts', 'MntSweetProducts',\n",
    "                  'NumWebPurchases', 'NumCatalogPurchases', 'NumStorePurchases',\n",
    "                  'Total_Mnt', 'Total_num_purchase', 'AOV']]"
   ]
  },
  {
   "cell_type": "code",
   "execution_count": 37,
   "id": "81d32cb8",
   "metadata": {},
   "outputs": [
    {
     "name": "stderr",
     "output_type": "stream",
     "text": [
      "<ipython-input-37-94b4087120d6>:5: FutureWarning: Dropping of nuisance columns in DataFrame reductions (with 'numeric_only=None') is deprecated; in a future version this will raise TypeError.  Select only valid columns before calling the reduction.\n",
      "  df10.mean()\n"
     ]
    },
    {
     "data": {
      "text/plain": [
       "Year_Birth              1968.901654\n",
       "Income                 52227.402325\n",
       "Minorhome                  0.950827\n",
       "Join_month                 6.465802\n",
       "Join_weekday               2.988824\n",
       "MntWines                 303.995530\n",
       "MntFruits                 26.270451\n",
       "MntMeatProducts          166.916853\n",
       "MntFishProducts           37.523022\n",
       "MntSweetProducts          27.068842\n",
       "NumWebPurchases            4.087170\n",
       "NumCatalogPurchases        2.662494\n",
       "NumStorePurchases          5.794367\n",
       "Total_Mnt                605.743406\n",
       "Total_num_purchase        20.189987\n",
       "AOV                       26.842831\n",
       "dtype: float64"
      ]
     },
     "execution_count": 37,
     "metadata": {},
     "output_type": "execute_result"
    }
   ],
   "source": [
    "df10 = df4[['Year_Birth', 'Income', 'Minorhome', 'Country', 'Join_month', 'Join_weekday',\n",
    "                  'MntWines', 'MntFruits', 'MntMeatProducts', 'MntFishProducts', 'MntSweetProducts',\n",
    "                  'NumWebPurchases', 'NumCatalogPurchases', 'NumStorePurchases',\n",
    "                  'Total_Mnt', 'Total_num_purchase', 'AOV']]\n",
    "df10.mean()"
   ]
  },
  {
   "cell_type": "code",
   "execution_count": 38,
   "id": "ba53b838",
   "metadata": {},
   "outputs": [
    {
     "name": "stderr",
     "output_type": "stream",
     "text": [
      "<ipython-input-38-d1b3bb0b7d09>:3: FutureWarning: Dropping of nuisance columns in DataFrame reductions (with 'numeric_only=None') is deprecated; in a future version this will raise TypeError.  Select only valid columns before calling the reduction.\n",
      "  value1 = pd.DataFrame((((cp_last.mean()) - df10.mean()) / df10.mean())*100)\n"
     ]
    },
    {
     "data": {
      "image/png": "[encoded data removed]",
      "text/plain": [
       "<Figure size 648x504 with 1 Axes>"
      ]
     },
     "metadata": {
      "needs_background": "light"
     },
     "output_type": "display_data"
    }
   ],
   "source": [
    "# visualize the differences between total group and group which opted for last campaign\n",
    "plt.figure(figsize = (9, 7))\n",
    "value1 = pd.DataFrame((((cp_last.mean()) - df10.mean()) / df10.mean())*100)\n",
    "value1.dropna(inplace = True)\n",
    "value1.sort_values(by=0,inplace = True)\n",
    "value1['positive'] = value1[0] >=0\n",
    "value1[0].plot(kind='barh', color=value1.positive.map({True: 'navy', False: 'orange'}))\n",
    "plt.title(\"Customer Characteristics Comparison - Customer in last campaign vs Average customer\")\n",
    "plt.xlabel(\"Difference in %\")\n",
    "plt.ylabel(\"Characteristics\");"
   ]
  },
  {
   "cell_type": "code",
   "execution_count": 39,
   "id": "d7231be1",
   "metadata": {},
   "outputs": [
    {
     "name": "stderr",
     "output_type": "stream",
     "text": [
      "<ipython-input-39-9bf9185552b2>:3: FutureWarning: Dropping of nuisance columns in DataFrame reductions (with 'numeric_only=None') is deprecated; in a future version this will raise TypeError.  Select only valid columns before calling the reduction.\n",
      "  value = pd.DataFrame((((cp_last.mean()) - cp__the_rest2.mean()) / cp__the_rest2.mean())*100)\n"
     ]
    },
    {
     "data": {
      "image/png": "[encoded data removed]",
      "text/plain": [
       "<Figure size 648x504 with 1 Axes>"
      ]
     },
     "metadata": {
      "needs_background": "light"
     },
     "output_type": "display_data"
    }
   ],
   "source": [
    "# visualize the differences between group which opted for last campaign and group which opted for rest of the campaigns\n",
    "plt.figure(figsize = (9, 7))\n",
    "value = pd.DataFrame((((cp_last.mean()) - cp__the_rest2.mean()) / cp__the_rest2.mean())*100)\n",
    "value.dropna(inplace = True)\n",
    "value.sort_values(by=0,inplace = True)\n",
    "value['positive'] = value[0] >=0\n",
    "value[0].plot(kind='barh', color=value.positive.map({True: 'navy', False: 'orange'}))\n",
    "plt.title(\"Customer Characteristics Comparison - The last campaign vs Campaign 1-5\")\n",
    "plt.xlabel(\"Difference in %\")\n",
    "plt.ylabel(\"Characteristics\")\n",
    "plt.savefig('Customer Characteristics Comparison - The last campaign vs Campaign 1-5', bbox_inches='tight');"
   ]
  },
  {
   "cell_type": "code",
   "execution_count": 40,
   "id": "1948f349",
   "metadata": {},
   "outputs": [
    {
     "data": {
      "text/html": [
       "<div>\n",
       "<style scoped>\n",
       "    .dataframe tbody tr th:only-of-type {\n",
       "        vertical-align: middle;\n",
       "    }\n",
       "\n",
       "    .dataframe tbody tr th {\n",
       "        vertical-align: top;\n",
       "    }\n",
       "\n",
       "    .dataframe thead th {\n",
       "        text-align: right;\n",
       "    }\n",
       "</style>\n",
       "<table border=\"1\" class=\"dataframe\">\n",
       "  <thead>\n",
       "    <tr style=\"text-align: right;\">\n",
       "      <th></th>\n",
       "      <th>Percent</th>\n",
       "    </tr>\n",
       "  </thead>\n",
       "  <tbody>\n",
       "    <tr>\n",
       "      <th>AUS</th>\n",
       "      <td>6.886228</td>\n",
       "    </tr>\n",
       "    <tr>\n",
       "      <th>CA</th>\n",
       "      <td>11.377246</td>\n",
       "    </tr>\n",
       "    <tr>\n",
       "      <th>GER</th>\n",
       "      <td>5.089820</td>\n",
       "    </tr>\n",
       "    <tr>\n",
       "      <th>IND</th>\n",
       "      <td>3.892216</td>\n",
       "    </tr>\n",
       "    <tr>\n",
       "      <th>ME</th>\n",
       "      <td>0.598802</td>\n",
       "    </tr>\n",
       "    <tr>\n",
       "      <th>SA</th>\n",
       "      <td>15.568862</td>\n",
       "    </tr>\n",
       "    <tr>\n",
       "      <th>SP</th>\n",
       "      <td>52.694611</td>\n",
       "    </tr>\n",
       "    <tr>\n",
       "      <th>US</th>\n",
       "      <td>3.892216</td>\n",
       "    </tr>\n",
       "  </tbody>\n",
       "</table>\n",
       "</div>"
      ],
      "text/plain": [
       "       Percent\n",
       "AUS   6.886228\n",
       "CA   11.377246\n",
       "GER   5.089820\n",
       "IND   3.892216\n",
       "ME    0.598802\n",
       "SA   15.568862\n",
       "SP   52.694611\n",
       "US    3.892216"
      ]
     },
     "execution_count": 40,
     "metadata": {},
     "output_type": "execute_result"
    }
   ],
   "source": [
    "################ Analysing differences in Country\n",
    "cp_last_country = pd.DataFrame((cp_last.Country.value_counts()/cp_last.shape[0])*100)\n",
    "cp_last_country.rename(columns={'Country':'Percent'}, inplace=True)\n",
    "cp_last_country['country'] = cp_last_country.index\n",
    "cp_last_country = cp_last_country.sort_values('country')\n",
    "cp_last_country.drop(['country'], axis=1, inplace=True)\n",
    "cp_last_country"
   ]
  },
  {
   "cell_type": "code",
   "execution_count": 41,
   "id": "5e58eb2d",
   "metadata": {},
   "outputs": [
    {
     "data": {
      "text/html": [
       "<div>\n",
       "<style scoped>\n",
       "    .dataframe tbody tr th:only-of-type {\n",
       "        vertical-align: middle;\n",
       "    }\n",
       "\n",
       "    .dataframe tbody tr th {\n",
       "        vertical-align: top;\n",
       "    }\n",
       "\n",
       "    .dataframe thead th {\n",
       "        text-align: right;\n",
       "    }\n",
       "</style>\n",
       "<table border=\"1\" class=\"dataframe\">\n",
       "  <thead>\n",
       "    <tr style=\"text-align: right;\">\n",
       "      <th></th>\n",
       "      <th>Percent</th>\n",
       "    </tr>\n",
       "  </thead>\n",
       "  <tbody>\n",
       "    <tr>\n",
       "      <th>AUS</th>\n",
       "      <td>7.237190</td>\n",
       "    </tr>\n",
       "    <tr>\n",
       "      <th>CA</th>\n",
       "      <td>12.097200</td>\n",
       "    </tr>\n",
       "    <tr>\n",
       "      <th>GER</th>\n",
       "      <td>5.335446</td>\n",
       "    </tr>\n",
       "    <tr>\n",
       "      <th>IND</th>\n",
       "      <td>7.025885</td>\n",
       "    </tr>\n",
       "    <tr>\n",
       "      <th>ME</th>\n",
       "      <td>0.052826</td>\n",
       "    </tr>\n",
       "    <tr>\n",
       "      <th>SA</th>\n",
       "      <td>14.896989</td>\n",
       "    </tr>\n",
       "    <tr>\n",
       "      <th>SP</th>\n",
       "      <td>48.283148</td>\n",
       "    </tr>\n",
       "    <tr>\n",
       "      <th>US</th>\n",
       "      <td>5.071315</td>\n",
       "    </tr>\n",
       "  </tbody>\n",
       "</table>\n",
       "</div>"
      ],
      "text/plain": [
       "       Percent\n",
       "AUS   7.237190\n",
       "CA   12.097200\n",
       "GER   5.335446\n",
       "IND   7.025885\n",
       "ME    0.052826\n",
       "SA   14.896989\n",
       "SP   48.283148\n",
       "US    5.071315"
      ]
     },
     "execution_count": 41,
     "metadata": {},
     "output_type": "execute_result"
    }
   ],
   "source": [
    "cp__the_rest2_country = pd.DataFrame((cp__the_rest2.Country.value_counts()/cp__the_rest2.shape[0])*100)\n",
    "cp__the_rest2_country.rename(columns={'Country':'Percent'}, inplace=True)\n",
    "cp__the_rest2_country['country'] = cp__the_rest2_country.index\n",
    "cp__the_rest2_country = cp__the_rest2_country.sort_values('country')\n",
    "cp__the_rest2_country.drop(['country'], axis=1, inplace=True)\n",
    "cp__the_rest2_country"
   ]
  },
  {
   "cell_type": "code",
   "execution_count": 42,
   "id": "94f1afc7",
   "metadata": {},
   "outputs": [
    {
     "data": {
      "image/png": "[encoded data removed]",
      "text/plain": [
       "<Figure size 648x504 with 1 Axes>"
      ]
     },
     "metadata": {
      "needs_background": "light"
     },
     "output_type": "display_data"
    }
   ],
   "source": [
    "country_final = cp_last_country-cp__the_rest2_country\n",
    "\n",
    "# visualize the differences\n",
    "plt.figure(figsize = (9, 7))\n",
    "country_final.sort_values(by=\"Percent\",inplace = True)\n",
    "country_final['positive'] = country_final[\"Percent\"] >=0\n",
    "country_final[\"Percent\"].plot(kind='barh', color=country_final.positive.map({True: 'navy', False: 'orange'}))\n",
    "plt.title(\"Country Percent Comparison - The last campaign vs Campaign 1-5\")\n",
    "plt.xlabel(\"Difference in %\")\n",
    "plt.ylabel(\"Country\")\n",
    "plt.savefig('Country Percent Comparison - The last campaign vs Campaign 1-5', bbox_inches='tight');"
   ]
  },
  {
   "cell_type": "code",
   "execution_count": 43,
   "id": "5e9ef4eb",
   "metadata": {},
   "outputs": [
    {
     "data": {
      "text/plain": [
       "SP     1094\n",
       "SA      336\n",
       "CA      268\n",
       "AUS     160\n",
       "IND     147\n",
       "GER     120\n",
       "US      109\n",
       "ME        3\n",
       "Name: Country, dtype: int64"
      ]
     },
     "execution_count": 43,
     "metadata": {},
     "output_type": "execute_result"
    }
   ],
   "source": [
    "df4.Country.value_counts()"
   ]
  },
  {
   "cell_type": "code",
   "execution_count": 44,
   "id": "0448ad89",
   "metadata": {},
   "outputs": [
    {
     "name": "stdout",
     "output_type": "stream",
     "text": [
      "Mean Absolute Error: 0.48427087466931223\n",
      "Mean Squared Error: 0.7160232529704494\n",
      "Root Mean Squared Error: 0.8461815721052128\n"
     ]
    }
   ],
   "source": [
    "### Spain is reasonably a large market and huge percent increase during last campaign\n",
    "# drop ID as everyone has unique ID\n",
    "rf_file = df4.drop(columns=['ID', 'Dt_Customer','AcceptedCmp3', 'AcceptedCmp4', 'AcceptedCmp5', 'AcceptedCmp1',\n",
    "       'AcceptedCmp2', 'Response'])\n",
    "rf_file.replace([np.inf, -np.inf], 0, inplace=True)\n",
    "\n",
    "# One-hot encoding\n",
    "rf_file = pd.get_dummies(rf_file)\n",
    "\n",
    "# Import train_test_split function\n",
    "from sklearn.model_selection import train_test_split\n",
    "\n",
    "X=rf_file.drop(columns=['Total_accept'])  # Features\n",
    "y=rf_file['Total_accept']  # Labels\n",
    "\n",
    "# Split dataset into training set and test set\n",
    "X_train, X_test, y_train, y_test = train_test_split(X, y, test_size=0.3) \n",
    "# 70% training and 30% test\n",
    "\n",
    "#Import Random Forest Model\n",
    "from sklearn.ensemble import RandomForestRegressor\n",
    "\n",
    "#Create a Random Forest Classifier with 100 trees\n",
    "rg2 = RandomForestRegressor(n_estimators=200, n_jobs=-1)\n",
    "\n",
    "#Train the model using the training sets y_pred=clf.predict(X_test)\n",
    "rg2.fit(X_train, y_train)\n",
    "\n",
    "y_pred=rg2.predict(X_test)\n",
    "\n",
    "from sklearn import metrics\n",
    "\n",
    "print('Mean Absolute Error:', metrics.mean_absolute_error(y_test, y_pred))\n",
    "print('Mean Squared Error:', metrics.mean_squared_error(y_test, y_pred))\n",
    "print('Root Mean Squared Error:', np.sqrt(metrics.mean_squared_error(y_test, y_pred)))"
   ]
  },
  {
   "cell_type": "code",
   "execution_count": 46,
   "id": "da7e539d",
   "metadata": {},
   "outputs": [
    {
     "name": "stdout",
     "output_type": "stream",
     "text": [
      "MntWines vs Total_accept:\n",
      "Pearson correlation (r):  0.4787761368904706\n",
      "Pearson p-value:  1.538453690271273e-128\n",
      " \n",
      "MntMeatProducts vs Total_accept:\n",
      "Pearson correlation (r):  0.30103342502969976\n",
      "Pearson p-value:  4.4065093290159594e-48\n",
      " \n",
      "MntGoldProds vs Total_accept:\n",
      "Pearson correlation (r):  0.19068006658523506\n",
      "Pearson p-value:  9.275051767778576e-20\n",
      " \n",
      "MntFishProducts vs Total_accept:\n",
      "Pearson correlation (r):  0.1591461828125727\n",
      "Pearson p-value:  3.697344094817059e-14\n",
      " \n",
      "MntFruits vs Total_accept:\n",
      "Pearson correlation (r):  0.14976326660144543\n",
      "Pearson p-value:  1.082631664111806e-12\n",
      " \n",
      "MntSweetProducts vs Total_accept:\n",
      "Pearson correlation (r):  0.17808985183102097\n",
      "Pearson p-value:  2.1328375413163002e-17\n",
      " \n"
     ]
    }
   ],
   "source": [
    "from scipy.stats import pearsonr\n",
    "\n",
    "list_ = ['MntWines', 'MntMeatProducts','MntGoldProds', 'MntFishProducts', 'MntFruits',  'MntSweetProducts']\n",
    "for i in list_:\n",
    "    r, p_value  =  pearsonr(x=df4[i], y=df4['Total_accept'])\n",
    "    print(i, \"vs Total_accept:\")\n",
    "    # print results\n",
    "    print('Pearson correlation (r): ', r)\n",
    "    print('Pearson p-value: ', p_value)\n",
    "    print(\" \")"
   ]
  },
  {
   "cell_type": "code",
   "execution_count": 47,
   "id": "f3f7ddab",
   "metadata": {},
   "outputs": [
    {
     "data": {
      "image/png": "[encoded data removed]",
      "text/plain": [
       "<Figure size 504x504 with 1 Axes>"
      ]
     },
     "metadata": {
      "needs_background": "light"
     },
     "output_type": "display_data"
    }
   ],
   "source": [
    "# find feature importance scores\n",
    "import pandas as pd\n",
    "feature_imp = pd.Series(rg2.feature_importances_, \n",
    "        index = list(X.columns)).sort_values(ascending=False)\n",
    "\n",
    "feature_imp = feature_imp[:10]\n",
    "\n",
    "# Creating a bar plot\n",
    "plt.figure(figsize = (7, 7))\n",
    "sb.barplot(x=feature_imp[:10], y=feature_imp.index[:10])\n",
    "# Add labels to your graph\n",
    "plt.xlabel('Feature Importance Score')\n",
    "plt.ylabel('Factors')\n",
    "plt.title(\"Top 10 Important Factors of Accepting Campaign Offers\")\n",
    "plt.savefig('important_feautres.png', bbox_inches='tight')\n",
    "plt.show()"
   ]
  },
  {
   "cell_type": "markdown",
   "id": "bd48d794",
   "metadata": {},
   "source": [
    "# The goal of this project\n",
    "I'm a marketing data analyst and I've been told by the Chief Marketing Officer that recent marketing campaigns have not been as effective as they were expected to be. I need to analyze the data set to understand this problem and propose data-driven solutions.\n",
    "\n",
    "Summaries\n",
    "The last campaign performed nearly twice as good as the previous campaigns\n",
    "The last campaign attracted more valuable customers in terms of AOV, the total amount spent, and the total number of purchases, compared to the customers who were attracted by the previous campaigns.\n",
    "Spain has relatively more customers (+4%) that were attracted to the last campaign, and India has fewer customers (-3%) that were attracted to the previous campaigns\n",
    "In terms of product categories, the customers in the last campaign spent nearly two times more money on meat products and wines compared to the customers in the previous campaigns.\n",
    "In terms of purchasing channels, the customers in the last campaign purchased more evenly through stores, websites, and catalogs, whereas the customers in the previous campaigns mostly purchased through stores and websites.\n",
    "The customers in the last campaign earned 20% more salary than the customers in the previous campaigns.\n",
    "Most customers purchase through physical stores, where people tend to spend more amount per purchase. The reason might be the customers had more impulsive purchases when they saw other similar products in stores.\n",
    "People having kids at home are less valuable customers as they...\n",
    "tend to purchase less\n",
    "tend to has a high number of purchases made with a discount\n",
    "The average customer...\n",
    "became a customer on Thursdays\n",
    "became a customer in Mid-June\n",
    "Actionable Data-Driven Solutions\n",
    "On Acquisition:\n",
    "Keep using the same marketing techniques in the last campaign, and with a focus on promoting meat products and wines\n",
    "\n",
    "Try to spend more marketing budget in Spain, and less in India\n",
    "\n",
    "Try to have a brand discount day on Thursday or a brand discount month in June to attract new customers\n",
    "\n",
    "On Increasing revenue:\n",
    "Have marketing campaigns to convert customers who shop mostly on a website or catalog to in-store purchasers as most in-store purchases have high average order volume.\n",
    "\n",
    "Build a loyalty program to make high-income customers loyal as long as possible"
   ]
  },
  {
   "cell_type": "code",
   "execution_count": null,
   "id": "6cf1dcb5",
   "metadata": {},
   "outputs": [],
   "source": []
  }
 ],
 "metadata": {
  "kernelspec": {
   "display_name": "Python 3",
   "language": "python",
   "name": "python3"
  },
  "language_info": {
   "codemirror_mode": {
    "name": "ipython",
    "version": 3
   },
   "file_extension": ".py",
   "mimetype": "text/x-python",
   "name": "python",
   "nbconvert_exporter": "python",
   "pygments_lexer": "ipython3",
   "version": "3.8.10"
  }
 },
 "nbformat": 4,
 "nbformat_minor": 5
}
